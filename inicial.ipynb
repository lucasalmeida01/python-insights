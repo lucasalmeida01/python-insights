version https://git-lfs.github.com/spec/v1
oid sha256:ab3118b38a128c5035fbfa3e6fe9f0b95ea4b81d5de200ccf833e9dad5005bd6
size 4453
